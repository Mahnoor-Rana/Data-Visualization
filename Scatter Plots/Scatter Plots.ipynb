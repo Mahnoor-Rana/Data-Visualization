{
 "cells": [
  {
   "cell_type": "markdown",
   "id": "8757c1fc",
   "metadata": {},
   "source": [
    "## Importing Libraries"
   ]
  },
  {
   "cell_type": "code",
   "execution_count": 1,
   "id": "1e089469",
   "metadata": {},
   "outputs": [],
   "source": [
    "import pandas as pd\n",
    "pd.plotting.register_matplotlib_converters()\n",
    "import matplotlib.pyplot as plt\n",
    "%matplotlib inline\n",
    "import seaborn as sns\n"
   ]
  },
  {
   "cell_type": "markdown",
   "id": "480c0ac3",
   "metadata": {},
   "source": [
    "##  Load the Data"
   ]
  },
  {
   "cell_type": "code",
   "execution_count": 2,
   "id": "2bdc59d3",
   "metadata": {},
   "outputs": [],
   "source": [
    "# Path of the file to read\n",
    "candy_filepath = \"candy.csv\"\n",
    "\n",
    "# Fill in the line below to read the file into a variable candy_data\n",
    "candy_data = pd.read_csv(candy_filepath, index_col= 'id')"
   ]
  },
  {
   "cell_type": "markdown",
   "id": "84a43139",
   "metadata": {},
   "source": [
    "## Review the data"
   ]
  },
  {
   "cell_type": "markdown",
   "id": "4de77b2e",
   "metadata": {},
   "source": [
    "Use a Python command to print the first five rows of the data."
   ]
  },
  {
   "cell_type": "code",
   "execution_count": 4,
   "id": "2eb8d1d6",
   "metadata": {},
   "outputs": [
    {
     "name": "stdout",
     "output_type": "stream",
     "text": [
      "   competitorname chocolate fruity caramel peanutyalmondy nougat  \\\n",
      "id                                                                 \n",
      "0       100 Grand       Yes     No     Yes             No     No   \n",
      "1    3 Musketeers       Yes     No      No             No    Yes   \n",
      "2       Air Heads        No    Yes      No             No     No   \n",
      "3      Almond Joy       Yes     No      No            Yes     No   \n",
      "4       Baby Ruth       Yes     No     Yes            Yes    Yes   \n",
      "\n",
      "   crispedricewafer hard  bar pluribus  sugarpercent  pricepercent  winpercent  \n",
      "id                                                                              \n",
      "0               Yes   No  Yes       No         0.732         0.860   66.971725  \n",
      "1                No   No  Yes       No         0.604         0.511   67.602936  \n",
      "2                No   No   No       No         0.906         0.511   52.341465  \n",
      "3                No   No  Yes       No         0.465         0.767   50.347546  \n",
      "4                No   No  Yes       No         0.604         0.767   56.914547  \n"
     ]
    }
   ],
   "source": [
    "# Print the first five rows of the data\n",
    "print(candy_data.head())"
   ]
  },
  {
   "cell_type": "code",
   "execution_count": 5,
   "id": "7452387e",
   "metadata": {},
   "outputs": [],
   "source": [
    "# Fill in the line below: Which candy was more popular with survey respondents:\n",
    "# '3 Musketeers' or 'Almond Joy'?  (Please enclose your answer in single quotes.)\n",
    "more_popular = '3 Musketeers'\n",
    "\n",
    "# Fill in the line below: Which candy has higher sugar content: 'Air Heads'\n",
    "# or 'Baby Ruth'? (Please enclose your answer in single quotes.)\n",
    "more_sugar = 'Air Heads'"
   ]
  },
  {
   "cell_type": "markdown",
   "id": "ee9d945a",
   "metadata": {},
   "source": [
    "## The role of sugar\n",
    "Do people tend to prefer candies with higher sugar content?\n",
    "\n",
    "### Part A\n",
    "Create a scatter plot that shows the relationship between 'sugarpercent' (on the horizontal x-axis) and 'winpercent' (on the vertical y-axis). Don't add a regression line just yet -- you'll do that in the next step!"
   ]
  },
  {
   "cell_type": "code",
   "execution_count": 7,
   "id": "e23239c4",
   "metadata": {},
   "outputs": [
    {
     "data": {
      "text/plain": [
       "<AxesSubplot:xlabel='sugarpercent', ylabel='winpercent'>"
      ]
     },
     "execution_count": 7,
     "metadata": {},
     "output_type": "execute_result"
    },
    {
     "data": {
      "image/png": "[encoded data removed]",
      "text/plain": [
       "<Figure size 360x360 with 1 Axes>"
      ]
     },
     "metadata": {
      "needs_background": "light"
     },
     "output_type": "display_data"
    }
   ],
   "source": [
    "# Scatter plot showing the relationship between 'sugarpercent' and 'winpercent'\n",
    "plt.figure(figsize=(5,5))\n",
    "sns.scatterplot(x=candy_data['sugarpercent'], y=candy_data['winpercent'])\n"
   ]
  },
  {
   "cell_type": "markdown",
   "id": "ce715edd",
   "metadata": {},
   "source": [
    "### Part B\n",
    "Does the scatter plot show a strong correlation between the two variables? If so, are candies with more sugar relatively more or less popular with the survey respondents?"
   ]
  },
  {
   "cell_type": "markdown",
   "id": "d0468df0",
   "metadata": {},
   "source": [
    "### ANS\n",
    "The scatter plot does not show a strong correlation between the two variables. Since there is no clear relationship between the two variables, this tells us that sugar content does not play a strong role in candy popularity."
   ]
  },
  {
   "cell_type": "markdown",
   "id": "27eef1ab",
   "metadata": {},
   "source": [
    "## Take a closer look"
   ]
  },
  {
   "cell_type": "markdown",
   "id": "1cf756a9",
   "metadata": {},
   "source": [
    "Create the same scatter plot you created above, but now with a regression line!"
   ]
  },
  {
   "cell_type": "code",
   "execution_count": 8,
   "id": "87de6c9d",
   "metadata": {},
   "outputs": [
    {
     "data": {
      "text/plain": [
       "<AxesSubplot:xlabel='sugarpercent', ylabel='winpercent'>"
      ]
     },
     "execution_count": 8,
     "metadata": {},
     "output_type": "execute_result"
    },
    {
     "data": {
      "image/png": "[encoded data removed]",
      "text/plain": [
       "<Figure size 432x288 with 1 Axes>"
      ]
     },
     "metadata": {
      "needs_background": "light"
     },
     "output_type": "display_data"
    }
   ],
   "source": [
    "# Scatter plot w/ regression line showing the relationship between 'sugarpercent' and 'winpercent'\n",
    "sns.regplot(x=candy_data['sugarpercent'], y=candy_data['winpercent'])\n",
    "\n"
   ]
  },
  {
   "cell_type": "markdown",
   "id": "16382937",
   "metadata": {},
   "source": [
    "### Part B\n",
    "According to the plot above, is there a slight correlation between 'winpercent' and 'sugarpercent'? What does this tell you about the candy that people tend to prefer?"
   ]
  },
  {
   "cell_type": "markdown",
   "id": "36cb7210",
   "metadata": {},
   "source": [
    "### ANS\n",
    "Since the regression line has a slightly positive slope, this tells us that there is a slightly positive correlation between 'winpercent' and 'sugarpercent'. Thus, people have a slight preference for candies containing relatively more sugar."
   ]
  },
  {
   "cell_type": "markdown",
   "id": "190bda23",
   "metadata": {},
   "source": [
    "## Chocolate!"
   ]
  },
  {
   "cell_type": "markdown",
   "id": "0cc34cd6",
   "metadata": {},
   "source": [
    "Create a scatter plot to show the relationship between 'pricepercent' (on the horizontal x-axis) and 'winpercent' (on the vertical y-axis). Use the 'chocolate' column to color-code the points."
   ]
  },
  {
   "cell_type": "code",
   "execution_count": 10,
   "id": "a1c601d4",
   "metadata": {},
   "outputs": [
    {
     "data": {
      "text/plain": [
       "<AxesSubplot:xlabel='winpercent', ylabel='chocolate'>"
      ]
     },
     "execution_count": 10,
     "metadata": {},
     "output_type": "execute_result"
    },
    {
     "data": {
      "image/png": "[encoded data removed]",
      "text/plain": [
       "<Figure size 432x288 with 1 Axes>"
      ]
     },
     "metadata": {
      "needs_background": "light"
     },
     "output_type": "display_data"
    }
   ],
   "source": [
    "# Scatter plot showing the relationship between 'pricepercent', 'winpercent', and 'chocolate'\n",
    "sns.scatterplot(x=candy_data['winpercent'], y=candy_data['chocolate'])\n"
   ]
  },
  {
   "cell_type": "markdown",
   "id": "ef55148c",
   "metadata": {},
   "source": [
    "## Investigate chocolate"
   ]
  },
  {
   "cell_type": "markdown",
   "id": "bf9ee7fa",
   "metadata": {},
   "source": [
    "Create the same scatter plot you created above, but now with two regression lines, corresponding to (1) chocolate candies and (2) candies without chocolate."
   ]
  },
  {
   "cell_type": "code",
   "execution_count": 11,
   "id": "b188a446",
   "metadata": {},
   "outputs": [
    {
     "data": {
      "text/plain": [
       "<seaborn.axisgrid.FacetGrid at 0x18ed12edcd0>"
      ]
     },
     "execution_count": 11,
     "metadata": {},
     "output_type": "execute_result"
    },
    {
     "data": {
      "image/png": "[encoded data removed]",
      "text/plain": [
       "<Figure size 416.375x360 with 1 Axes>"
      ]
     },
     "metadata": {
      "needs_background": "light"
     },
     "output_type": "display_data"
    }
   ],
   "source": [
    "# Color-coded scatter plot w/ regression lines\n",
    "sns.lmplot(x=\"pricepercent\", y=\"winpercent\", hue=\"chocolate\", data=candy_data)\n"
   ]
  },
  {
   "cell_type": "markdown",
   "id": "20a37aa5",
   "metadata": {},
   "source": [
    "### Part B\n",
    "Using the regression lines, what conclusions can you draw about the effects of chocolate and price on candy popularity?"
   ]
  },
  {
   "cell_type": "markdown",
   "id": "f5828c9d",
   "metadata": {},
   "source": [
    "### ANS \n",
    "We'll begin with the regression line for chocolate candies. Since this line has a slightly positive slope, we can say that more expensive chocolate candies tend to be more popular (than relatively cheaper chocolate candies). Likewise, since the regression line for candies without chocolate has a negative slope, we can say that if candies don't contain chocolate, they tend to be more popular when they are cheaper."
   ]
  },
  {
   "cell_type": "markdown",
   "id": "335b4a75",
   "metadata": {},
   "source": [
    "## Everybody loves chocolate."
   ]
  },
  {
   "cell_type": "markdown",
   "id": "41194752",
   "metadata": {},
   "source": [
    "\n",
    "Create a categorical scatter plot to highlight the relationship between 'chocolate' and 'winpercent'. Put 'chocolate' on the (horizontal) x-axis, and 'winpercent' on the (vertical) y-axis."
   ]
  },
  {
   "cell_type": "code",
   "execution_count": 12,
   "id": "04576f36",
   "metadata": {},
   "outputs": [
    {
     "data": {
      "text/plain": [
       "<AxesSubplot:xlabel='winpercent', ylabel='chocolate'>"
      ]
     },
     "execution_count": 12,
     "metadata": {},
     "output_type": "execute_result"
    },
    {
     "data": {
      "image/png": "[encoded data removed]",
      "text/plain": [
       "<Figure size 432x288 with 1 Axes>"
      ]
     },
     "metadata": {
      "needs_background": "light"
     },
     "output_type": "display_data"
    }
   ],
   "source": [
    "# Scatter plot showing the relationship between 'chocolate' and 'winpercent'\n",
    "sns.swarmplot(x=candy_data['winpercent'], y=candy_data['chocolate'])"
   ]
  }
 ],
 "metadata": {
  "kernelspec": {
   "display_name": "Python 3 (ipykernel)",
   "language": "python",
   "name": "python3"
  },
  "language_info": {
   "codemirror_mode": {
    "name": "ipython",
    "version": 3
   },
   "file_extension": ".py",
   "mimetype": "text/x-python",
   "name": "python",
   "nbconvert_exporter": "python",
   "pygments_lexer": "ipython3",
   "version": "3.9.12"
  }
 },
 "nbformat": 4,
 "nbformat_minor": 5
}
