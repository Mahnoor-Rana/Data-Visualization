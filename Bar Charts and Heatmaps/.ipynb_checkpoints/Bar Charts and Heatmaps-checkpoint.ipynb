{
 "cells": [
  {
   "cell_type": "markdown",
   "id": "44227ea5",
   "metadata": {},
   "source": [
    "## Importing Libraries"
   ]
  },
  {
   "cell_type": "code",
   "execution_count": 1,
   "id": "b169b50c",
   "metadata": {},
   "outputs": [],
   "source": [
    "import pandas as pd\n",
    "pd.plotting.register_matplotlib_converters()\n",
    "import matplotlib.pyplot as plt\n",
    "%matplotlib inline\n",
    "import seaborn as sns"
   ]
  },
  {
   "cell_type": "markdown",
   "id": "3e52e338",
   "metadata": {},
   "source": [
    "## Load the data"
   ]
  },
  {
   "cell_type": "code",
   "execution_count": null,
   "id": "35fe8cce",
   "metadata": {},
   "outputs": [],
   "source": [
    "# Path of the file to read\n",
    "ign_filepath = \"ign_scores.csv\"\n",
    "\n",
    "# Fill in the line below to read the file into a variable ign_data\n",
    "ign_data = pd.read_csv(ign_filepath , index_col = 'platform')\n"
   ]
  },
  {
   "cell_type": "markdown",
   "id": "d406b7c0",
   "metadata": {},
   "source": [
    "## Review the data"
   ]
  },
  {
   "cell_type": "markdown",
   "id": "e99e0f78",
   "metadata": {},
   "source": [
    "Use a Python command to print the entire dataset."
   ]
  },
  {
   "cell_type": "code",
   "execution_count": null,
   "id": "2d385cec",
   "metadata": {},
   "outputs": [],
   "source": [
    "# Print the data\n",
    "print(ign_data)"
   ]
  },
  {
   "cell_type": "code",
   "execution_count": null,
   "id": "3a489e26",
   "metadata": {},
   "outputs": [],
   "source": [
    "# Fill in the line below: What is the highest average score received by PC games,\n",
    "# for any genre?\n",
    "high_score = 7.759930\n",
    "\n",
    "# Fill in the line below: On the Playstation Vita platform, which genre has the \n",
    "# lowest average score? Please provide the name of the column, and put your answer \n",
    "# in single quotes (e.g., 'Action', 'Adventure', 'Fighting', etc.)\n",
    "worst_genre = 'Simulation'"
   ]
  },
  {
   "cell_type": "markdown",
   "id": "fd535026",
   "metadata": {},
   "source": [
    "## Which platform is best?"
   ]
  },
  {
   "cell_type": "markdown",
   "id": "3c696bd5",
   "metadata": {},
   "source": [
    "Since you can remember, your favorite video game has been Mario Kart Wii, a racing game released for the Wii platform in 2008. And, IGN agrees with you that it is a great game -- their rating for this game is a whopping 8.9! Inspired by the success of this game, you're considering creating your very own racing game for the Wii platform.\n",
    "\n",
    "### Part A\n",
    "Create a bar chart that shows the average score for racing games, for each platform. Your chart should have one bar for each platform."
   ]
  },
  {
   "cell_type": "code",
   "execution_count": 3,
   "id": "fc2d2d0b",
   "metadata": {},
   "outputs": [
    {
     "ename": "NameError",
     "evalue": "name 'ign_data' is not defined",
     "output_type": "error",
     "traceback": [
      "\u001b[1;31m---------------------------------------------------------------------------\u001b[0m",
      "\u001b[1;31mNameError\u001b[0m                                 Traceback (most recent call last)",
      "Input \u001b[1;32mIn [3]\u001b[0m, in \u001b[0;36m<cell line: 3>\u001b[1;34m()\u001b[0m\n\u001b[0;32m      1\u001b[0m \u001b[38;5;66;03m# Bar chart showing average score for racing games by platform\u001b[39;00m\n\u001b[0;32m      2\u001b[0m plt\u001b[38;5;241m.\u001b[39mfigure(figsize\u001b[38;5;241m=\u001b[39m(\u001b[38;5;241m10\u001b[39m,\u001b[38;5;241m5\u001b[39m))\n\u001b[1;32m----> 3\u001b[0m sns\u001b[38;5;241m.\u001b[39mbarplot(x \u001b[38;5;241m=\u001b[39m \u001b[43mign_data\u001b[49m[\u001b[38;5;124m'\u001b[39m\u001b[38;5;124mRacing\u001b[39m\u001b[38;5;124m'\u001b[39m], y \u001b[38;5;241m=\u001b[39m ign_data\u001b[38;5;241m.\u001b[39mindex)\n",
      "\u001b[1;31mNameError\u001b[0m: name 'ign_data' is not defined"
     ]
    },
    {
     "data": {
      "text/plain": [
       "<Figure size 720x360 with 0 Axes>"
      ]
     },
     "metadata": {},
     "output_type": "display_data"
    }
   ],
   "source": [
    "# Bar chart showing average score for racing games by platform\n",
    "plt.figure(figsize=(10,5))\n",
    "sns.barplot(x = ign_data['Racing'], y = ign_data.index)"
   ]
  },
  {
   "cell_type": "markdown",
   "id": "fdf552f8",
   "metadata": {},
   "source": [
    "### Part B\n",
    "Based on the bar chart, do you expect a racing game for the Wii platform to receive a high rating? If not, what gaming platform seems to be the best alternative?"
   ]
  },
  {
   "cell_type": "markdown",
   "id": "5afb2a70",
   "metadata": {},
   "source": [
    "### ANS\n",
    "Based on the data, we should not expect a racing game for the Wii platform to receive a high rating. In fact, on average, racing games for Wii score lower than any other platform. Xbox One seems to be the best alternative, since it has the highest average ratings."
   ]
  },
  {
   "cell_type": "markdown",
   "id": "b6f81d39",
   "metadata": {},
   "source": [
    "## All possible combinations!\n",
    "Eventually, you decide against creating a racing game for Wii, but you're still committed to creating your own video game! Since your gaming interests are pretty broad (... you generally love most video games), you decide to use the IGN data to inform your new choice of genre and platform.\n",
    "\n",
    "### Part A\n",
    "Use the data to create a heatmap of average score by genre and platform."
   ]
  },
  {
   "cell_type": "code",
   "execution_count": null,
   "id": "ccf82edf",
   "metadata": {},
   "outputs": [],
   "source": [
    "# Heatmap showing average game score by platform and genre\n",
    "\n",
    "\n",
    "# Set the width and height of the figure\n",
    "plt.figure(figsize=(10,10))\n",
    "# Heatmap showing average game score by platform and genre\n",
    "sns.heatmap(ign_data, annot=True)"
   ]
  },
  {
   "cell_type": "markdown",
   "id": "f3499e9b",
   "metadata": {},
   "source": [
    "### Part B\n",
    "Which combination of genre and platform receives the highest average ratings? Which combination receives the lowest average rankings?"
   ]
  },
  {
   "cell_type": "markdown",
   "id": "70760b7a",
   "metadata": {},
   "source": [
    "### ANS\n",
    " Simulation games for Playstation 4 receive the highest average ratings (9.2). Shooting and Fighting games for Game Boy Color receive the lowest average rankings (4.5)."
   ]
  }
 ],
 "metadata": {
  "kernelspec": {
   "display_name": "Python 3 (ipykernel)",
   "language": "python",
   "name": "python3"
  },
  "language_info": {
   "codemirror_mode": {
    "name": "ipython",
    "version": 3
   },
   "file_extension": ".py",
   "mimetype": "text/x-python",
   "name": "python",
   "nbconvert_exporter": "python",
   "pygments_lexer": "ipython3",
   "version": "3.9.12"
  }
 },
 "nbformat": 4,
 "nbformat_minor": 5
}
